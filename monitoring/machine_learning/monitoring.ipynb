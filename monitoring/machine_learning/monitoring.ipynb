{
 "cells": [
  {
   "cell_type": "markdown",
   "metadata": {},
   "source": [
    "# Gestion du monitoring des modèles de machine learning"
   ]
  },
  {
   "cell_type": "code",
   "execution_count": 2,
   "metadata": {},
   "outputs": [],
   "source": [
    "import pandas as pd\n",
    "from evidently.report import Report\n",
    "from evidently.metrics.base_metric import generate_column_metrics\n",
    "from evidently.metric_preset import DataDriftPreset, DataQualityPreset, RegressionPreset, TargetDriftPreset\n",
    "from evidently.metrics import ColumnSummaryMetric\n",
    "from evidently.test_suite import TestSuite\n",
    "from evidently.test_preset import DataStabilityTestPreset"
   ]
  },
  {
   "cell_type": "markdown",
   "metadata": {},
   "source": [
    "## Report de drift de données"
   ]
  },
  {
   "cell_type": "code",
   "execution_count": 3,
   "metadata": {},
   "outputs": [],
   "source": [
    "data_ref = pd.read_csv(\"data/data_ref.csv\")\n",
    "current_data = pd.read_csv(\"data/current_data.csv\")\n",
    "\n",
    "data_drift_report = Report(metrics=[\n",
    "    generate_column_metrics(ColumnSummaryMetric, columns=[col for col in data_ref.columns if col != \"target\"]),\n",
    "    DataDriftPreset(),\n",
    "    DataQualityPreset(),\n",
    "    RegressionPreset(),\n",
    "    TargetDriftPreset()\n",
    "])\n",
    "\n",
    "data_drift_report.run(current_data=current_data, reference_data=data_ref, column_mapping=None)\n",
    "data_drift_report.save_html(\"exports/data_drift_report.html\")\n"
   ]
  },
  {
   "cell_type": "markdown",
   "metadata": {},
   "source": [
    "## Test de stabilité des données"
   ]
  },
  {
   "cell_type": "code",
   "execution_count": 4,
   "metadata": {},
   "outputs": [],
   "source": [
    "test_suite = TestSuite(tests=[\n",
    "    DataStabilityTestPreset(),\n",
    "])\n",
    "test_suite.run(current_data=current_data, reference_data=data_ref, column_mapping=None)\n",
    "test_suite.save_html(\"exports/test_suite.html\")\n",
    "\n",
    "\n"
   ]
  }
 ],
 "metadata": {
  "kernelspec": {
   "display_name": "venv",
   "language": "python",
   "name": "python3"
  },
  "language_info": {
   "codemirror_mode": {
    "name": "ipython",
    "version": 3
   },
   "file_extension": ".py",
   "mimetype": "text/x-python",
   "name": "python",
   "nbconvert_exporter": "python",
   "pygments_lexer": "ipython3",
   "version": "3.12.0"
  }
 },
 "nbformat": 4,
 "nbformat_minor": 2
}
